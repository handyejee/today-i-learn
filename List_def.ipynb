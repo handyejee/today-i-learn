{
 "cells": [
  {
   "cell_type": "markdown",
   "id": "0a604de5",
   "metadata": {},
   "source": [
    "## 리스트 변수\n",
    "\n",
    "1. 리스트 선언\n",
    "\n",
    " - 리스트변수 = [ ]\n",
    " - 리스트변수 = list()\n",
    " - 리스트변수 = [ 데이터1, 데이터2, ... ]\n",
    "\n",
    "2. 리스트 추가\n",
    "\n",
    " - 리스트변수.append(데이터)\n",
    " - 리스트변수.insert(인덱스번호, 데이터)\n",
    "\n",
    "3. 리스트 삭제\n",
    "\n",
    " - 리스트변수.remove(데이터)\n",
    " - del 리스트변수[인덱스번호]\n",
    "\n",
    "4. 리스트 데이터 수정\n",
    "\n",
    " - 리스트변수[인덱스번호] = 수정할 데이터"
   ]
  }
 ],
 "metadata": {
  "kernelspec": {
   "display_name": "Python 3 (ipykernel)",
   "language": "python",
   "name": "python3"
  },
  "language_info": {
   "codemirror_mode": {
    "name": "ipython",
    "version": 3
   },
   "file_extension": ".py",
   "mimetype": "text/x-python",
   "name": "python",
   "nbconvert_exporter": "python",
   "pygments_lexer": "ipython3",
   "version": "3.9.7"
  }
 },
 "nbformat": 4,
 "nbformat_minor": 5
}
